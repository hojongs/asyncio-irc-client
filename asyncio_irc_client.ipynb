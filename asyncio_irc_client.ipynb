{
 "cells": [
  {
   "cell_type": "code",
   "execution_count": null,
   "metadata": {
    "scrolled": false
   },
   "outputs": [],
   "source": [
    "from __future__ import print_function # python2 compatibility\n",
    "import asyncio\n",
    "import unittest\n",
    "\n",
    "from hojong_py_util.util import parse_url # git submodule\n",
    "from ircclient import IRCClient\n",
    "from cb_mongodb import * # you can test callback functions, run the cb_*.py file\n",
    "\n",
    "#################### twitch IRC server info ####################\n",
    "SERVER = 'irc.chat.twitch.tv'\n",
    "CHANNEL = '#...' # set the channel you want to join\n",
    "NICK = '...' # set your nickname\n",
    "PASS = 'oauth:token' # you can get it from https://twitchapps.com/tmi/\n",
    "\n",
    "#################### freenode irc server info example ####################\n",
    "#'''\n",
    "from random import random\n",
    "\n",
    "SERVER = 'chat.freenode.net:6666'\n",
    "CHANNEL = '#hojong'\n",
    "NICK = 'hjbot_%05d' % (random() * 10000)\n",
    "PASS = None\n",
    "#'''\n",
    "\n",
    "#################### callback ####################\n",
    "def print_chat(nick, chat): # callback\n",
    "    print('*** [RECEIVED] %s: %s' % (nick, chat))\n",
    "\n",
    "#################### main ####################\n",
    "def main():\n",
    "    host, port = parse_url(SERVER)\n",
    "    assert (PASS != 'oauth:token'), 'you must set PASS'\n",
    "    print('*** [SETTING_INFO] %s %d %s %s %s' % (host, port, CHANNEL, NICK, PASS))\n",
    "    \n",
    "    loop = asyncio.get_event_loop()\n",
    "    if loop.is_closed():\n",
    "        loop = asyncio.new_event_loop()\n",
    "        asyncio.set_event_loop(loop)\n",
    "        \n",
    "    # if you want to use other callback, change the callback parameter\n",
    "    client = IRCClient(CHANNEL, NICK, PASS, init_mongodb, log_to_mongodb, close_mongodb, loop)\n",
    "    coroutine = loop.create_connection(lambda: client, host, port)\n",
    "\n",
    "    try:\n",
    "        loop.run_until_complete(coroutine) # connect\n",
    "        # bot send chatting\n",
    "        client.send_chat('hello, I am a bot!')\n",
    "        loop.run_forever() # data receiving\n",
    "    except KeyboardInterrupt as e:\n",
    "        print(e)\n",
    "    finally:\n",
    "        loop.close()\n",
    "\n",
    "if __name__ == '__main__':\n",
    "    main()"
   ]
  },
  {
   "cell_type": "code",
   "execution_count": null,
   "metadata": {},
   "outputs": [],
   "source": []
  }
 ],
 "metadata": {
  "kernelspec": {
   "display_name": "Python 3",
   "language": "python",
   "name": "python3"
  },
  "language_info": {
   "codemirror_mode": {
    "name": "ipython",
    "version": 3
   },
   "file_extension": ".py",
   "mimetype": "text/x-python",
   "name": "python",
   "nbconvert_exporter": "python",
   "pygments_lexer": "ipython3",
   "version": "3.5.4"
  }
 },
 "nbformat": 4,
 "nbformat_minor": 2
}
