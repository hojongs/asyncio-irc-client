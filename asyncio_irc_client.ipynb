{
 "cells": [
  {
   "cell_type": "code",
   "execution_count": null,
   "metadata": {
    "scrolled": false
   },
   "outputs": [],
   "source": [
    "import asyncio\n",
    "from util import parse_url\n",
    "\n",
    "'''\n",
    "# freenode irc server example info\n",
    "SERVER = 'chat.freenode.net:6666'\n",
    "CHANNEL = '#hojong'\n",
    "NICK = 'hjbot'\n",
    "PASS = ''\n",
    "'''\n",
    "\n",
    "# twitch IRC server info\n",
    "SERVER = 'irc.chat.twitch.tv'\n",
    "CHANNEL = '#...' # set the channel you want to join\n",
    "NICK = '...' # set your nickname\n",
    "PASS = 'oauth:token' # you can get it from https://twitchapps.com/tmi/\n",
    "\n",
    "class IRCClient(asyncio.Protocol):\n",
    "    def __init__(self, CHANNEL, NICK, PASS, loop):\n",
    "        self.channel = CHANNEL\n",
    "        self.nick = NICK\n",
    "        self.password = PASS\n",
    "        self.loop = loop\n",
    "\n",
    "    def connection_made(self, transport):\n",
    "        msg_list = []\n",
    "        if self.password and len(self.password) > 0:\n",
    "            msg_list.append('PASS %s\\r\\n' % self.password)\n",
    "        msg_list.append('NICK %s\\r\\n' % self.nick)\n",
    "        msg_list.append('USER ... 0 * :...\\r\\n')\n",
    "        msg_list.append('JOIN %s\\r\\n' % self.channel)\n",
    "        \n",
    "        for msg in msg_list:\n",
    "            print('*** SENDED:', msg, end='')\n",
    "            transport.write(msg.encode())\n",
    "\n",
    "    def data_received(self, data):\n",
    "        packet = data.decode().split(' ')\n",
    "        nickname = (packet[0].split('!'))[0][1:]\n",
    "        command = packet[1]\n",
    "        \n",
    "        if command == 'PRIVMSG':\n",
    "            chat = packet[3][1:].replace('\\r\\n', '')\n",
    "            print('%s: %s' % (nickname, chat))\n",
    "\n",
    "    def connection_lost(self, exc):\n",
    "        print('The server closed the connection')\n",
    "        print('Stop the event loop')\n",
    "        self.loop.stop()\n",
    "\n",
    "def main():\n",
    "    host, port = parse_url(SERVER)\n",
    "    assert (PASS != 'oauth:token'), 'you must set PASS'\n",
    "    print('*** SETTING INFO: %s %d %s %s %s' % (host, port, CHANNEL, NICK, PASS))\n",
    "    \n",
    "    loop = asyncio.get_event_loop()\n",
    "    coroutine = loop.create_connection(lambda: IRCClient(CHANNEL, NICK, PASS, loop), host, port)\n",
    "\n",
    "    try:\n",
    "        loop.run_until_complete(coroutine)\n",
    "        loop.run_forever()\n",
    "        loop.close()\n",
    "    except Exception as e:\n",
    "        print(e)\n",
    "    \n",
    "if __name__ == '__main__':\n",
    "    main()"
   ]
  },
  {
   "cell_type": "code",
   "execution_count": null,
   "metadata": {},
   "outputs": [],
   "source": []
  }
 ],
 "metadata": {
  "kernelspec": {
   "display_name": "Python 3",
   "language": "python",
   "name": "python3"
  },
  "language_info": {
   "codemirror_mode": {
    "name": "ipython",
    "version": 3
   },
   "file_extension": ".py",
   "mimetype": "text/x-python",
   "name": "python",
   "nbconvert_exporter": "python",
   "pygments_lexer": "ipython3",
   "version": "3.5.4"
  }
 },
 "nbformat": 4,
 "nbformat_minor": 2
}
