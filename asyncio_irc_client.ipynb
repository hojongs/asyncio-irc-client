{
 "cells": [
  {
   "cell_type": "code",
   "execution_count": 1,
   "metadata": {
    "scrolled": false
   },
   "outputs": [
    {
     "name": "stdout",
     "output_type": "stream",
     "text": [
      "irc.chat.twitch.tv/alenenwooptv 6667 #hojong hjbot_07123\n",
      "[Errno 11001] getaddrinfo failed\n"
     ]
    }
   ],
   "source": [
    "import asyncio\n",
    "from random import random\n",
    "from util import parse_url\n",
    "\n",
    "# setting.json\n",
    "SERVER = 'irc.chat.twitch.tv/alenenwooptv'# 'chat.freenode.net:6666'\n",
    "CHANNEL = '#hojong'\n",
    "NICK = 'hjbot_%05d' % (random() * 10000)\n",
    "\n",
    "class EchoClientProtocol(asyncio.Protocol):\n",
    "    def __init__(self, params, loop):\n",
    "        self.channel = params['channel']\n",
    "        self.nick = params['nick']\n",
    "        self.loop = loop\n",
    "\n",
    "    def connection_made(self, transport):\n",
    "        transport.write(('USER guest 0 * :...\\r\\n').encode())\n",
    "        transport.write(('NICK %s\\r\\n' % self.nick).encode())\n",
    "        transport.write(('JOIN %s\\r\\n' % self.channel).encode())\n",
    "\n",
    "    def data_received(self, data):\n",
    "        print(data.decode())\n",
    "\n",
    "    def connection_lost(self, exc):\n",
    "        print('The server closed the connection')\n",
    "        print('Stop the event loop')\n",
    "        self.loop.stop()\n",
    "\n",
    "def main():\n",
    "    host, port = parse_url(SERVER)\n",
    "    print('%s %d %s %s' % (host, port, CHANNEL, NICK))\n",
    "    \n",
    "    params = dict()\n",
    "    params['channel'] = CHANNEL\n",
    "    params['nick'] = NICK\n",
    "    \n",
    "    loop = asyncio.get_event_loop()\n",
    "    coro = loop.create_connection(lambda: EchoClientProtocol(params, loop),\n",
    "                                  host, port)\n",
    "    try:\n",
    "        loop.run_until_complete(coro)\n",
    "        loop.run_forever()\n",
    "        loop.close()\n",
    "    except Exception as e:\n",
    "        print(e)\n",
    "    \n",
    "if __name__ == '__main__':\n",
    "    main()"
   ]
  },
  {
   "cell_type": "code",
   "execution_count": null,
   "metadata": {},
   "outputs": [],
   "source": []
  }
 ],
 "metadata": {
  "kernelspec": {
   "display_name": "Python 3",
   "language": "python",
   "name": "python3"
  },
  "language_info": {
   "codemirror_mode": {
    "name": "ipython",
    "version": 3
   },
   "file_extension": ".py",
   "mimetype": "text/x-python",
   "name": "python",
   "nbconvert_exporter": "python",
   "pygments_lexer": "ipython3",
   "version": "3.5.4"
  }
 },
 "nbformat": 4,
 "nbformat_minor": 2
}
